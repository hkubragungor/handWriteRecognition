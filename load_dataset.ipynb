{
 "cells": [
  {
   "cell_type": "code",
   "execution_count": null,
   "metadata": {},
   "outputs": [],
   "source": [
    "from skimage import io\n",
    "from os import walk\n",
    "import numpy as np\n",
    "from skimage.transform import rescale,resize\n"
   ]
  },
  {
   "cell_type": "code",
   "execution_count": null,
   "metadata": {},
   "outputs": [],
   "source": [
    "datasetpath = \"datasetfilepath\"\n",
    "images = []\n",
    "labels = []\n",
    "npy_name = \"\"\n",
    "npy_label = \"\"\n",
    "train_path =\"pathtosaveddataset\"\n",
    "label_path =\"pathtosaveddatasetlabel\"\n"
   ]
  },
  {
   "cell_type": "code",
   "execution_count": null,
   "metadata": {},
   "outputs": [],
   "source": [
    "def load_image(img_path):\n",
    "    img = io.imread(img_path,as_gray=True)\n",
    "    img = resize(img,(28,28),anti_aliasing=False)\n",
    "    img = img.reshape(28,28,1)\n",
    "    images.append(img)\n"
   ]
  },
  {
   "cell_type": "code",
   "execution_count": 1,
   "metadata": {},
   "outputs": [
    {
     "ename": "NameError",
     "evalue": "name 'walk' is not defined",
     "output_type": "error",
     "traceback": [
      "\u001b[0;31m---------------------------------------------------------------------------\u001b[0m",
      "\u001b[0;31mNameError\u001b[0m                                 Traceback (most recent call last)",
      "\u001b[0;32m<ipython-input-1-98c9235e8468>\u001b[0m in \u001b[0;36m<module>\u001b[0;34m\u001b[0m\n\u001b[1;32m     73\u001b[0m     \u001b[0;32mreturn\u001b[0m \u001b[0mswitcher\u001b[0m\u001b[0;34m.\u001b[0m\u001b[0mget\u001b[0m\u001b[0;34m(\u001b[0m\u001b[0marg\u001b[0m\u001b[0;34m,\u001b[0m \u001b[0;34m\"nothing\"\u001b[0m\u001b[0;34m)\u001b[0m\u001b[0;34m\u001b[0m\u001b[0;34m\u001b[0m\u001b[0m\n\u001b[1;32m     74\u001b[0m \u001b[0;34m\u001b[0m\u001b[0m\n\u001b[0;32m---> 75\u001b[0;31m \u001b[0mmain\u001b[0m\u001b[0;34m(\u001b[0m\u001b[0;34m)\u001b[0m\u001b[0;34m\u001b[0m\u001b[0;34m\u001b[0m\u001b[0m\n\u001b[0m",
      "\u001b[0;32m<ipython-input-1-98c9235e8468>\u001b[0m in \u001b[0;36mmain\u001b[0;34m()\u001b[0m\n\u001b[1;32m      2\u001b[0m     \u001b[0msayac\u001b[0m \u001b[0;34m=\u001b[0m \u001b[0;36m0\u001b[0m\u001b[0;34m\u001b[0m\u001b[0;34m\u001b[0m\u001b[0m\n\u001b[1;32m      3\u001b[0m     \u001b[0mi\u001b[0m\u001b[0;34m=\u001b[0m\u001b[0;36m0\u001b[0m\u001b[0;34m\u001b[0m\u001b[0;34m\u001b[0m\u001b[0m\n\u001b[0;32m----> 4\u001b[0;31m     \u001b[0;32mfor\u001b[0m \u001b[0;34m(\u001b[0m\u001b[0mdirpath\u001b[0m\u001b[0;34m,\u001b[0m\u001b[0mdirnames\u001b[0m\u001b[0;34m,\u001b[0m\u001b[0mfilenames\u001b[0m\u001b[0;34m)\u001b[0m \u001b[0;32min\u001b[0m \u001b[0mwalk\u001b[0m\u001b[0;34m(\u001b[0m\u001b[0mdatasetpath\u001b[0m\u001b[0;34m)\u001b[0m\u001b[0;34m:\u001b[0m\u001b[0;34m\u001b[0m\u001b[0;34m\u001b[0m\u001b[0m\n\u001b[0m\u001b[1;32m      5\u001b[0m         \u001b[0;32mfor\u001b[0m \u001b[0mfile\u001b[0m \u001b[0;32min\u001b[0m \u001b[0mfilenames\u001b[0m\u001b[0;34m:\u001b[0m\u001b[0;34m\u001b[0m\u001b[0;34m\u001b[0m\u001b[0m\n\u001b[1;32m      6\u001b[0m             \u001b[0mimg_path\u001b[0m \u001b[0;34m=\u001b[0m \u001b[0mdirpath\u001b[0m\u001b[0;34m+\u001b[0m\u001b[0;34m'/'\u001b[0m\u001b[0;34m+\u001b[0m\u001b[0mfile\u001b[0m\u001b[0;34m\u001b[0m\u001b[0;34m\u001b[0m\u001b[0m\n",
      "\u001b[0;31mNameError\u001b[0m: name 'walk' is not defined"
     ]
    }
   ],
   "source": [
    "def main():\n",
    "    sayac = 0\n",
    "    i=0\n",
    "    for (dirpath,dirnames,filenames) in walk(datasetpath):\n",
    "        for file in filenames:\n",
    "            img_path = dirpath+'/'+file\n",
    "            load_image(img_path)\n",
    "            w = img_path.split('/')\n",
    "            labels.append(class_name(w[5]))\n",
    "            sayac+=1\n",
    "            if sayac>=162924:   #814.631 \n",
    "                x_train = []\n",
    "                y_train = []\n",
    "                x=str(i)\n",
    "                npy_img = train_path+x\n",
    "                npy_label = label_path+x\n",
    "                x_train = np.array(images,dtype=np.float32)\n",
    "                y_train = np.array(labels,dtype=np.float32)\n",
    "                np.save(npy_img,x_train)\n",
    "                np.save(npy_label,y_train)\n",
    "                sayac=0\n",
    "                i+=1\n",
    "                images.clear()\n",
    "                labels.clear()\n",
    "                x_train = None\n",
    "                y_train = None\n",
    "def class_name(arg):\n",
    "    switcher = {\n",
    "        '4a_6a': 0,\n",
    "        '4b_6b': 1,\n",
    "        '4c_6c': 2,\n",
    "        '4d_6d': 3,\n",
    "        '4e': 4,\n",
    "        '4f_6f': 5,\n",
    "        '5a_7a': 6,\n",
    "        '6e': 7,\n",
    "        '31': 8,\n",
    "        '32': 9,\n",
    "        '33': 10,\n",
    "        '34': 11,\n",
    "        '35': 12,\n",
    "        '36': 13,\n",
    "        '37': 14,\n",
    "        '38': 15,\n",
    "        '39': 16,\n",
    "        '41': 17,\n",
    "        '42': 18,\n",
    "        '43_63': 19,\n",
    "        '44': 20,\n",
    "        '45': 21,\n",
    "        '46': 22,\n",
    "        '47': 23,\n",
    "        '48': 24,\n",
    "        '49_69': 25,\n",
    "        '50_70': 26,\n",
    "        '52': 27,\n",
    "        '53_73': 38,\n",
    "        '54': 29,\n",
    "        '55_75': 30,\n",
    "        '56_76': 31,\n",
    "        '59_79': 32,\n",
    "        '61': 33,\n",
    "        '62': 34,\n",
    "        '64': 35,\n",
    "        '65': 36,\n",
    "        '66': 37,\n",
    "        '67': 38,\n",
    "        '68': 39,\n",
    "        '72': 40,\n",
    "        '74': 41,\n",
    "\n",
    "    }\n",
    "    return switcher.get(arg, \"nothing\")\n",
    "\n",
    "main()\n"
   ]
  },
  {
   "cell_type": "code",
   "execution_count": null,
   "metadata": {},
   "outputs": [],
   "source": []
  }
 ],
 "metadata": {
  "kernelspec": {
   "display_name": "TensorFlow-GPU",
   "language": "python",
   "name": "tf-gpu"
  },
  "language_info": {
   "codemirror_mode": {
    "name": "ipython",
    "version": 2
   },
   "file_extension": ".py",
   "mimetype": "text/x-python",
   "name": "python",
   "nbconvert_exporter": "python",
   "pygments_lexer": "ipython2",
   "version": "2.7.15"
  }
 },
 "nbformat": 4,
 "nbformat_minor": 2
}
